{
 "cells": [
  {
   "attachments": {},
   "cell_type": "markdown",
   "metadata": {},
   "source": [
    "# Hoja de Trabajo # 2 - Sintaxis y Estructuras de Datos"
   ]
  },
  {
   "attachments": {},
   "cell_type": "markdown",
   "metadata": {},
   "source": [
    "### EJERCICIO No. 1"
   ]
  },
  {
   "attachments": {},
   "cell_type": "markdown",
   "metadata": {},
   "source": [
    "Haga un programa en Python que reciba de parámetro un número de segundos y que despliegue en pantalla, las horas, minutos y segundos que representan. \n",
    "\n",
    "\n",
    "Por ejemplo:\n",
    "\n",
    "1. Si el número de segundos recibidos fuera: 2743 entonces su programa debería desplegar:\n",
    "Horas: 0, Minutos: 45 , Segundos: 43\n",
    "\n",
    "\n",
    "2. Si el número de segundos recibidos fuera 5871: Horas: 1, Minutos: 37 , Segundos: 51\n",
    "Recuerde manejar excepciones y errores que considere necesarios.\n"
   ]
  },
  {
   "cell_type": "code",
   "execution_count": 27,
   "metadata": {},
   "outputs": [],
   "source": [
    "class convert_seconds:\n",
    "\n",
    "    def __init__(self, segundos):\n",
    "\n",
    "        self.segundos_ingresados= segundos\n",
    "\n",
    "    def evaluar_valor(self):\n",
    "\n",
    "        evaluar=False\n",
    "\n",
    "        if type(self.segundos_ingresados)!=int:\n",
    "\n",
    "            evaluar=False\n",
    "\n",
    "        else:\n",
    "\n",
    "            evaluar=True\n",
    "\n",
    "        return evaluar\n",
    "\n",
    "    def get_hour(self):\n",
    "\n",
    "        if self.evaluar_valor()==True:\n",
    "\n",
    "            hours=self.segundos_ingresados//3600\n",
    "            print(hours)\n",
    "            minutos=((self.segundos_ingresados % 3600)*60 ) \n",
    "            print(minutos)\n",
    "\n",
    "\n",
    "            return print(f\"cantidad de horas = {int(hours)}\")\n",
    "\n",
    "        else:\n",
    "\n",
    "            print(\"Error, el valor de los segundos debe ser un entero\")\n",
    "\n",
    "    "
   ]
  },
  {
   "cell_type": "code",
   "execution_count": 28,
   "metadata": {},
   "outputs": [
    {
     "name": "stdout",
     "output_type": "stream",
     "text": [
      "0\n",
      "900\n",
      "cantidad de horas = 0\n"
     ]
    }
   ],
   "source": [
    "seconds_1=convert_seconds(15)\n",
    "\n",
    "seconds_1.evaluar_valor()\n",
    "\n",
    "seconds_1.get_hour()"
   ]
  }
 ],
 "metadata": {
  "kernelspec": {
   "display_name": "Python 3",
   "language": "python",
   "name": "python3"
  },
  "language_info": {
   "codemirror_mode": {
    "name": "ipython",
    "version": 3
   },
   "file_extension": ".py",
   "mimetype": "text/x-python",
   "name": "python",
   "nbconvert_exporter": "python",
   "pygments_lexer": "ipython3",
   "version": "3.9.13"
  },
  "orig_nbformat": 4
 },
 "nbformat": 4,
 "nbformat_minor": 2
}
