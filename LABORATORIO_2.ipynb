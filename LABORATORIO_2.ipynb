{
 "cells": [
  {
   "attachments": {},
   "cell_type": "markdown",
   "metadata": {},
   "source": [
    "# Hoja de Trabajo # 2 - Sintaxis y Estructuras de Datos"
   ]
  },
  {
   "attachments": {},
   "cell_type": "markdown",
   "metadata": {},
   "source": [
    "### EJERCICIO No. 1"
   ]
  },
  {
   "attachments": {},
   "cell_type": "markdown",
   "metadata": {},
   "source": [
    "Haga un programa en Python que reciba de parámetro un número de segundos y que despliegue en pantalla, las horas, minutos y segundos que representan. \n",
    "\n",
    "\n",
    "Por ejemplo:\n",
    "\n",
    "1. Si el número de segundos recibidos fuera: 2743 entonces su programa debería desplegar:\n",
    "Horas: 0, Minutos: 45 , Segundos: 43\n",
    "\n",
    "\n",
    "2. Si el número de segundos recibidos fuera 5871: Horas: 1, Minutos: 37 , Segundos: 51\n",
    "Recuerde manejar excepciones y errores que considere necesarios.\n"
   ]
  },
  {
   "cell_type": "code",
   "execution_count": 17,
   "metadata": {},
   "outputs": [],
   "source": [
    "def convert_segundos_to_h_m_s(segundos):\n",
    "\n",
    "    try:\n",
    "\n",
    "        if type(segundos)==int and segundos>0:\n",
    "    \n",
    "            horas = segundos//3600\n",
    "        \n",
    "            segundos = segundos%3600\n",
    "        \n",
    "            minutos = segundos//60\n",
    "        \n",
    "            segundos = segundos%60\n",
    "        \n",
    "            return f\"Horas:{horas}, Minutos:{minutos}, Segundos:{segundos}\"\n",
    "        \n",
    "        else:\n",
    "\n",
    "            print(\"Debe ingresar un valor entero mayor a cero\")\n",
    "    \n",
    "    except:\n",
    "\n",
    "        print(\"Debe ingresar un valor entero mayor a cero\")\n",
    "\n",
    "        pass"
   ]
  },
  {
   "cell_type": "code",
   "execution_count": 21,
   "metadata": {},
   "outputs": [
    {
     "data": {
      "text/plain": [
       "'Horas:0, Minutos:25, Segundos:20'"
      ]
     },
     "execution_count": 21,
     "metadata": {},
     "output_type": "execute_result"
    }
   ],
   "source": [
    "convert_segundos_to_h_m_s(1520)"
   ]
  },
  {
   "attachments": {},
   "cell_type": "markdown",
   "metadata": {},
   "source": [
    "### EJERCICIO No. 2"
   ]
  },
  {
   "attachments": {},
   "cell_type": "markdown",
   "metadata": {},
   "source": [
    "Haga una funcion en Python que dado un numero entre 1 y 20. Y un caracter cualquiera\n",
    "despliegue cuatro patrones triangulares.\n",
    "Por ejemplo si el usuario ingresara el numero 4 y el sımbolo * el programa debera desplegar\n",
    "lo siguiente:\n",
    "\n",
    "<img src=\"grafica.png\">"
   ]
  },
  {
   "cell_type": "code",
   "execution_count": 51,
   "metadata": {},
   "outputs": [],
   "source": [
    "class dibujar:\n",
    "\n",
    "    def __init__(self, cant_carateres, caracter):\n",
    "\n",
    "        self.cant_caracteres_1=cant_carateres\n",
    "        self.caracter_1=str(caracter)\n",
    "    \n",
    "    def evaluar(self):\n",
    "\n",
    "        evaluar=False\n",
    "\n",
    "        if type(self.cant_caracteres_1)==int:\n",
    "\n",
    "            if self.cant_caracteres_1>1 and self.cant_caracteres_1<20:\n",
    "\n",
    "                evaluar=True\n",
    "\n",
    "                return evaluar\n",
    "        \n",
    "        else:\n",
    "\n",
    "            evaluar=False\n",
    "\n",
    "            return evaluar\n",
    "\n",
    "    \n",
    "    def imprimir_figura(self):\n",
    "\n",
    "        list_1=[]\n",
    "        list_2=[]\n",
    "        list_3=[]\n",
    "        strig_1=\"\"\n",
    "        strig_2=\"\"\n",
    "\n",
    "        if self.evaluar()==True:\n",
    "\n",
    "            for i in range(20-self.cant_caracteres_1):\n",
    "\n",
    "                strig_1+=\" \"\n",
    "\n",
    "            for enum, j in enumerate(range(self.cant_caracteres_1),0):\n",
    "\n",
    "                if enum==self.cant_caracteres_1-1:\n",
    "\n",
    "                    break\n",
    "                \n",
    "                for  i in range(self.cant_caracteres_1):\n",
    "                    \n",
    "                    if enum==i:\n",
    "\n",
    "                        strig_2+=self.caracter_1\n",
    "\n",
    "                        strig_2+=strig_1\n",
    "\n",
    "                    else:\n",
    "\n",
    "                        strig_2+=self.caracter_1\n",
    "\n",
    "                strig_2=strig_2+\" \"+strig_2\n",
    "\n",
    "                list_3.append(strig_2)\n",
    "\n",
    "                strig_2=\"\"\n",
    "                    \n",
    "\n",
    "            for i in list_3:\n",
    "\n",
    "                print(i)\n",
    "                \n",
    "        else:\n",
    "\n",
    "            print(\"Debe ingresar un valor entre 1 y 20\")\n",
    "\n",
    "\n",
    "\n",
    "\n"
   ]
  },
  {
   "cell_type": "code",
   "execution_count": 57,
   "metadata": {},
   "outputs": [
    {
     "name": "stdout",
     "output_type": "stream",
     "text": [
      "a aaaaaaaaaaaaaaaaaa a aaaaaaaaaaaaaaaaaa\n",
      "aa aaaaaaaaaaaaaaaaa aa aaaaaaaaaaaaaaaaa\n",
      "aaa aaaaaaaaaaaaaaaa aaa aaaaaaaaaaaaaaaa\n",
      "aaaa aaaaaaaaaaaaaaa aaaa aaaaaaaaaaaaaaa\n",
      "aaaaa aaaaaaaaaaaaaa aaaaa aaaaaaaaaaaaaa\n",
      "aaaaaa aaaaaaaaaaaaa aaaaaa aaaaaaaaaaaaa\n",
      "aaaaaaa aaaaaaaaaaaa aaaaaaa aaaaaaaaaaaa\n",
      "aaaaaaaa aaaaaaaaaaa aaaaaaaa aaaaaaaaaaa\n",
      "aaaaaaaaa aaaaaaaaaa aaaaaaaaa aaaaaaaaaa\n",
      "aaaaaaaaaa aaaaaaaaa aaaaaaaaaa aaaaaaaaa\n",
      "aaaaaaaaaaa aaaaaaaa aaaaaaaaaaa aaaaaaaa\n",
      "aaaaaaaaaaaa aaaaaaa aaaaaaaaaaaa aaaaaaa\n",
      "aaaaaaaaaaaaa aaaaaa aaaaaaaaaaaaa aaaaaa\n",
      "aaaaaaaaaaaaaa aaaaa aaaaaaaaaaaaaa aaaaa\n",
      "aaaaaaaaaaaaaaa aaaa aaaaaaaaaaaaaaa aaaa\n",
      "aaaaaaaaaaaaaaaa aaa aaaaaaaaaaaaaaaa aaa\n",
      "aaaaaaaaaaaaaaaaa aa aaaaaaaaaaaaaaaaa aa\n",
      "aaaaaaaaaaaaaaaaaa a aaaaaaaaaaaaaaaaaa a\n"
     ]
    }
   ],
   "source": [
    "dibujar_1=dibujar(19,\"a\")\n",
    "\n",
    "dibujar_1.imprimir_figura()\n"
   ]
  },
  {
   "attachments": {},
   "cell_type": "markdown",
   "metadata": {},
   "source": [
    "### EJERCICIO No. 3"
   ]
  },
  {
   "attachments": {},
   "cell_type": "markdown",
   "metadata": {},
   "source": [
    "Haga un programa en Python que la fecha de nacimiento de una persona (puede ingresar por\n",
    "separado cada valor, es decir pedir primero día, luego mes y luego año), despliegue la edad\n",
    "de la persona en años, meses y días. Su resultado puede ser aproximado."
   ]
  },
  {
   "cell_type": "code",
   "execution_count": 67,
   "metadata": {},
   "outputs": [],
   "source": [
    "from datetime import datetime, timedelta\n",
    "\n",
    "\n",
    "class diferencia_edad:\n",
    "\n",
    "    def __init__(self, x, y, z):\n",
    "\n",
    "        self.dia=x\n",
    "        self.mes=y\n",
    "        self.anio=z\n",
    "\n",
    "    def edad(self):\n",
    "\n",
    "        time_now=datetime.now()\n",
    "\n",
    "        dic_meses={1:31,2:29,3:31,4:30,5:31,6:30,7:31,8:31,9:30,10:31,11:30,12:31}\n",
    "        list_keys=list(dic_meses.keys())\n",
    "        \n",
    "        if type(self.dia)==int and type(self.mes)==int and type(self.anio)==int:\n",
    "\n",
    "            if (self.dia>0) and (dic_meses[self.mes]>=self.dia) and (list_keys.count(self.mes)==1) and (time_now.year>self.anio) and (0<self.anio):\n",
    "\n",
    "                dif_anio=time_now.year-self.anio\n",
    "                dif_mes=time_now.month-self.mes\n",
    "                dif_dias=time_now.day-self.dia\n",
    "\n",
    "                if dif_mes<0:\n",
    "\n",
    "                    dif_anio=dif_anio-1\n",
    "\n",
    "                if dif_dias<0:\n",
    "\n",
    "                    dif_mes=dif_mes-1\n",
    "\n",
    "                print(f\"años {dif_anio}, meses {12-abs(dif_mes)}, dias {time_now.day+(dic_meses[self.mes]-self.dia)}\")\n",
    "\n",
    "        else:\n",
    "\n",
    "            print(\"ERROR AL INGRESAR LA EDAD\")"
   ]
  },
  {
   "cell_type": "code",
   "execution_count": 68,
   "metadata": {},
   "outputs": [
    {
     "name": "stdout",
     "output_type": "stream",
     "text": [
      "años 29, meses 8, dias 12\n"
     ]
    }
   ],
   "source": [
    "dif_edad=diferencia_edad(27, 6, 1993)\n",
    "\n",
    "dif_edad.edad()"
   ]
  },
  {
   "attachments": {},
   "cell_type": "markdown",
   "metadata": {},
   "source": [
    "### EJERCICIO No. 4"
   ]
  },
  {
   "attachments": {},
   "cell_type": "markdown",
   "metadata": {},
   "source": [
    "Escriba una función en Python que dada una tupla de elementos (números o letras) esta se\n",
    "convierta a un string. Tomar nota del siguiente ejemplo:\n",
    "Si la entrada fuera: (10, 20, 40, 5, 70)\n",
    "La salida debería ser: 102040570"
   ]
  },
  {
   "cell_type": "code",
   "execution_count": 69,
   "metadata": {},
   "outputs": [],
   "source": [
    "\n",
    "\n",
    "class convert_string:\n",
    "\n",
    "    def __init__(self,tuple_in):\n",
    "\n",
    "        self.tuple_in_1=tuple_in\n",
    "\n",
    "\n",
    "    def evaluar(self):\n",
    "\n",
    "        string=\"\"\n",
    "\n",
    "        if type(self.tuple_in_1)==tuple:\n",
    "\n",
    "            if len(self.tuple_in_1)>0:\n",
    "\n",
    "                for i in self.tuple_in_1:\n",
    "\n",
    "                    string+=str(i)\n",
    "\n",
    "                return string\n",
    "\n",
    "            else:\n",
    "\n",
    "                print(\"La tupla esta vacia\")\n",
    "\n",
    "\n",
    "        else:\n",
    "            print(\"Debe ingresar una tupla\")\n"
   ]
  },
  {
   "cell_type": "code",
   "execution_count": 70,
   "metadata": {},
   "outputs": [
    {
     "data": {
      "text/plain": [
       "'123456675a'"
      ]
     },
     "execution_count": 70,
     "metadata": {},
     "output_type": "execute_result"
    }
   ],
   "source": [
    "tuple_1=(1,2,3,4,56,675,\"a\")\n",
    "\n",
    "tupla_strig=convert_string(tuple_1)\n",
    "\n",
    "tupla_strig.evaluar()"
   ]
  },
  {
   "attachments": {},
   "cell_type": "markdown",
   "metadata": {},
   "source": [
    "### EJERCICIO No. 5"
   ]
  },
  {
   "attachments": {},
   "cell_type": "markdown",
   "metadata": {},
   "source": [
    "Cree un programa en Python que dada una lista de tuplas, elimine las tuplas que están vacías.\n",
    "Tomar nota del siguiente ejemplo:\n",
    "\n",
    "\n",
    "Si la lista fuera: [(), (), (\"X\",), (\"a\", \"b\"), (\"a\", \"b\", \"c\"), (\"d\")]\n",
    "\n",
    "\n",
    "El resultado deber´ıa ser: [(\"X\"), (\"a\", \"b\"), (\"a\", \"b\", \"c\"), \"d\"]"
   ]
  },
  {
   "cell_type": "code",
   "execution_count": 73,
   "metadata": {},
   "outputs": [],
   "source": [
    "class eliminar_tuplas:\n",
    "\n",
    "    def __init__(self,tuple_in):\n",
    "\n",
    "        self.tuple_in_1=tuple_in\n",
    "\n",
    "\n",
    "    def run(self):\n",
    "\n",
    "        string=\"\"\n",
    "\n",
    "        tuple_1=()\n",
    "        lista_tuple=[]\n",
    "\n",
    "        if type(self.tuple_in_1)==tuple:\n",
    "\n",
    "            if len(self.tuple_in_1)>0:\n",
    "\n",
    "                for i in self.tuple_in_1:\n",
    "\n",
    "                    if type(i)==tuple:\n",
    "\n",
    "                        if len(i)==0:\n",
    "\n",
    "                            pass\n",
    "\n",
    "                        else:\n",
    "\n",
    "                            lista_tuple.append(i)\n",
    "\n",
    "                    else:\n",
    "\n",
    "                        print(\"No todas son sub_tuplas\")\n",
    "\n",
    "                        lista_tuple=[]\n",
    "\n",
    "                        break\n",
    "                \n",
    "\n",
    "                tuple_1=tuple(lista_tuple)\n",
    "                \n",
    "\n",
    "                return tuple_1\n",
    "\n",
    "            else:\n",
    "\n",
    "                print(\"La tupla esta vacia\")\n",
    "\n",
    "\n",
    "        else:\n",
    "            print(\"Debe ingresar una tupla\")"
   ]
  },
  {
   "cell_type": "code",
   "execution_count": 74,
   "metadata": {},
   "outputs": [
    {
     "name": "stdout",
     "output_type": "stream",
     "text": [
      "((1, 2), ('a', 'b', 'c'))\n"
     ]
    }
   ],
   "source": [
    "\n",
    "tuple_1=((1,2),(),(\"a\",\"b\",\"c\"))\n",
    "\n",
    "tupla_strig=eliminar_tuplas(tuple_1)\n",
    "\n",
    "tuple_1=tupla_strig.run()\n",
    "\n",
    "print(tuple_1)\n"
   ]
  },
  {
   "attachments": {},
   "cell_type": "markdown",
   "metadata": {},
   "source": [
    "### EJERCICIO No. 6"
   ]
  },
  {
   "attachments": {},
   "cell_type": "markdown",
   "metadata": {},
   "source": [
    "Cree una función en Python que dada una tupla de tuplas con números, produzca una tupla\n",
    "con el promedio de cada tupla individual. Tomar nota del siguiente ejemplo:\n",
    "\n",
    "\n",
    "Si la tupla de entrada fuera: ((10, 10, 10, 12), (30, 45, 56, 45), (81, 80, 39, 32))\n",
    "\n",
    "El resultado debería ser: (10.5, 44, 58)\n"
   ]
  },
  {
   "cell_type": "code",
   "execution_count": 78,
   "metadata": {},
   "outputs": [],
   "source": [
    "class media_tuplas:\n",
    "\n",
    "    def __init__(self,tuple_in):\n",
    "\n",
    "        self.tuple_in_1=tuple_in\n",
    "\n",
    "\n",
    "    def run(self):\n",
    "\n",
    "        string=\"\"\n",
    "\n",
    "        tuple_1=()\n",
    "        lista_tuple=[]\n",
    "\n",
    "        if type(self.tuple_in_1)==tuple:\n",
    "\n",
    "            if len(self.tuple_in_1)>0:\n",
    "\n",
    "                for i in self.tuple_in_1:\n",
    "\n",
    "                    if type(i)==tuple:\n",
    "\n",
    "                        if len(i)==0:\n",
    "\n",
    "                            pass\n",
    "\n",
    "                        else:\n",
    "\n",
    "                            try:\n",
    "\n",
    "                                mean = sum(i)/len(i)\n",
    "\n",
    "                                lista_tuple.append(mean)\n",
    "\n",
    "                            except:\n",
    "\n",
    "                                print(f\"Al valor {i} no se le pudo sacar la media.\")\n",
    "\n",
    "                                pass\n",
    "\n",
    "                    else:\n",
    "\n",
    "                        print(\"No todas son sub_tuplas\")\n",
    "\n",
    "                        lista_tuple=[]\n",
    "\n",
    "                        break\n",
    "                \n",
    "\n",
    "                tuple_1=tuple(lista_tuple)\n",
    "                \n",
    "\n",
    "                return tuple_1\n",
    "\n",
    "            else:\n",
    "\n",
    "                print(\"La tupla esta vacia\")\n",
    "\n",
    "\n",
    "        else:\n",
    "            print(\"Debe ingresar una tupla\")\n",
    "\n"
   ]
  },
  {
   "cell_type": "code",
   "execution_count": 80,
   "metadata": {},
   "outputs": [
    {
     "name": "stdout",
     "output_type": "stream",
     "text": [
      "Al valor (1, 'a') no se le pudo sacar la media.\n",
      "(23.25, 391.2857142857143)\n"
     ]
    }
   ],
   "source": [
    "tuple_1=((1,\"a\"),(12,34,24,23),(34,56,2323,5,23,53,245))\n",
    "\n",
    "tupla_strig=media_tuplas(tuple_1)\n",
    "\n",
    "tuple_1=tupla_strig.run()\n",
    "\n",
    "print(tuple_1)"
   ]
  },
  {
   "attachments": {},
   "cell_type": "markdown",
   "metadata": {},
   "source": [
    "### EJERCICIO No. 7"
   ]
  },
  {
   "attachments": {},
   "cell_type": "markdown",
   "metadata": {},
   "source": [
    "Escribir un programa que gestione las facturas pendientes de cobro de una empresa. Las\n",
    "facturas se almacenarán en un diccionario donde la llave de cada factura será el número de\n",
    "factura (debe utilizar un numero de 4 dígitos) y el valor el coste de la factura. El programa\n",
    "debe preguntar al usuario si quiere añadir una nueva factura, pagar una existente o terminar.\n",
    "Si desea añadir una nueva factura se preguntará por el número de factura y su coste y se\n",
    "añadirá al diccionario, para confirmar que la factura se ingreso correctamente el programa\n",
    "debe desplegar el diccionario completo. Si se desea pagar una factura se preguntará por el\n",
    "número de factura y se eliminará del diccionario. Despues de cada operación el programa\n",
    "debe mostrar en pantalla la cantidad cobrada hasta el momento y la cantidad pendiente de\n",
    "cobro. Puede utilizar otras estructuras de datos como apoyo si lo considera necesario."
   ]
  },
  {
   "cell_type": "code",
   "execution_count": 122,
   "metadata": {},
   "outputs": [],
   "source": [
    "\n",
    "\n",
    "\n",
    "class factura:\n",
    "\n",
    "\n",
    "    def __init__(self):\n",
    "\n",
    "        self.dic_factura={}\n",
    "\n",
    "\n",
    "\n",
    "    def agreagar_factura(self,num_fact,costo_fact):\n",
    "\n",
    "\n",
    "        if type(num_fact)==int and len(str(num_fact))==4:\n",
    "\n",
    "            if type(costo_fact)==float:\n",
    "\n",
    "                if costo_fact>0:\n",
    "\n",
    "                    self.dic_factura[num_fact]=costo_fact\n",
    "\n",
    "\n",
    "                    print(f\"No. de factura = {num_fact} | costo de factura = {costo_fact}\")\n",
    "\n",
    "        else:\n",
    "\n",
    "                print(f\"No se pudo agregar la factura No. {num_fact} con costo = {costo_fact}\")\n",
    "                \n",
    "\n",
    "    def pagar_factura(self,num_fact,costo_fact):\n",
    "\n",
    "        \n",
    "        if type(num_fact)==int and len(str(num_fact))==4:\n",
    "          \n",
    "            list_keys=list(self.dic_factura.keys())\n",
    "\n",
    "            if list_keys.count(num_fact)==1:\n",
    "\n",
    "                try:\n",
    "\n",
    "                    costo_fact=float(costo_fact)\n",
    "\n",
    "                except:\n",
    "\n",
    "                    pass\n",
    "\n",
    "\n",
    "                if type(costo_fact)==float:\n",
    "\n",
    "                    if self.dic_factura[num_fact]>0:\n",
    "\n",
    "                        if self.dic_factura[num_fact]>costo_fact:\n",
    "\n",
    "                            cant_1=self.dic_factura[num_fact]\n",
    "\n",
    "                            self.dic_factura[num_fact]=cant_1-costo_fact\n",
    "\n",
    "                            print(f\"El pago efectuado en la factura {num_fact}, fue de {costo_fact}, queda pendiente {cant_1-costo_fact}\")\n",
    "\n",
    "                        elif self.dic_factura[num_fact]<costo_fact:\n",
    "\n",
    "                            print(f\"No es correcto el pago ingresado, valor pendiente de la factura {self.dic_factura[num_fact]}\")\n",
    "\n",
    "                        elif self.dic_factura[num_fact]==costo_fact:\n",
    "\n",
    "                            print(f\"El pago efectuado en la factura {num_fact}, fue de {costo_fact}, queda pendiente {0}, la factura se elimino del diccionario\")\n",
    "\n",
    "                            self.dic_factura.pop(num_fact)\n",
    "\n",
    "                    else:\n",
    "\n",
    "                        print(\"El valor no puede ser menor a cero.\")\n",
    "\n",
    "\n",
    "                else: \n",
    "\n",
    "                    print(\"El tipo de la variable ingresado no es valido, debe ser un valor numerico.\")\n",
    "\n",
    "\n",
    "\n",
    "\n",
    "    def imprimir_dic(self):\n",
    "\n",
    "        for i in self.dic_factura:\n",
    "\n",
    "            print(f\"Factura No. = {i} | Pago pendiente = {self.dic_factura[i]}\")\n",
    "\n",
    "\n",
    "\n",
    "\n",
    "\n",
    "\n"
   ]
  },
  {
   "cell_type": "code",
   "execution_count": 123,
   "metadata": {},
   "outputs": [
    {
     "name": "stdout",
     "output_type": "stream",
     "text": [
      "No. de factura = 5425 | costo de factura = 548.54\n",
      "No se pudo agregar la factura No. 21545 con costo = 54.5\n",
      "No. de factura = 4521 | costo de factura = 874.44\n",
      "No. de factura = 1548 | costo de factura = 697.18\n",
      "No. de factura = 9875 | costo de factura = 8752.47\n",
      "No se pudo agregar la factura No. -10 con costo = 8796.14\n"
     ]
    }
   ],
   "source": [
    "facturas=factura()\n",
    "\n",
    "\n",
    "facturas.agreagar_factura(5425,548.54)\n",
    "\n",
    "facturas.agreagar_factura(21545,54.5)\n",
    "\n",
    "facturas.agreagar_factura(4521,874.44)\n",
    "\n",
    "facturas.agreagar_factura(1548,697.18)\n",
    "\n",
    "facturas.agreagar_factura(9875,8752.47)\n",
    "\n",
    "facturas.agreagar_factura(-10,8796.14)\n",
    "\n"
   ]
  },
  {
   "cell_type": "code",
   "execution_count": 124,
   "metadata": {},
   "outputs": [
    {
     "name": "stdout",
     "output_type": "stream",
     "text": [
      "El pago efectuado en la factura 5425, fue de 548.54, queda pendiente 0, la factura se elimino del diccionario\n"
     ]
    }
   ],
   "source": [
    "facturas.pagar_factura(5425,548.54)"
   ]
  },
  {
   "cell_type": "code",
   "execution_count": 125,
   "metadata": {},
   "outputs": [
    {
     "name": "stdout",
     "output_type": "stream",
     "text": [
      "El pago efectuado en la factura 4521, fue de 800.0, queda pendiente 74.44000000000005\n"
     ]
    }
   ],
   "source": [
    "facturas.pagar_factura(4521,800)"
   ]
  },
  {
   "cell_type": "code",
   "execution_count": 126,
   "metadata": {},
   "outputs": [
    {
     "name": "stdout",
     "output_type": "stream",
     "text": [
      "No es correcto el pago ingresado, valor pendiente de la factura 8752.47\n"
     ]
    }
   ],
   "source": [
    "facturas.pagar_factura(9875,10000)"
   ]
  },
  {
   "cell_type": "code",
   "execution_count": 127,
   "metadata": {},
   "outputs": [
    {
     "name": "stdout",
     "output_type": "stream",
     "text": [
      "Factura No. = 4521 | Pago pendiente = 74.44000000000005\n",
      "Factura No. = 1548 | Pago pendiente = 697.18\n",
      "Factura No. = 9875 | Pago pendiente = 8752.47\n"
     ]
    }
   ],
   "source": [
    "facturas.imprimir_dic()"
   ]
  }
 ],
 "metadata": {
  "kernelspec": {
   "display_name": "Python 3",
   "language": "python",
   "name": "python3"
  },
  "language_info": {
   "codemirror_mode": {
    "name": "ipython",
    "version": 3
   },
   "file_extension": ".py",
   "mimetype": "text/x-python",
   "name": "python",
   "nbconvert_exporter": "python",
   "pygments_lexer": "ipython3",
   "version": "3.9.13"
  },
  "orig_nbformat": 4
 },
 "nbformat": 4,
 "nbformat_minor": 2
}
