{
 "cells": [
  {
   "attachments": {},
   "cell_type": "markdown",
   "metadata": {},
   "source": [
    "# Hoja de Trabajo # 2 - Sintaxis y Estructuras de Datos"
   ]
  },
  {
   "attachments": {},
   "cell_type": "markdown",
   "metadata": {},
   "source": [
    "### EJERCICIO No. 1"
   ]
  },
  {
   "attachments": {},
   "cell_type": "markdown",
   "metadata": {},
   "source": [
    "Haga un programa en Python que reciba de parámetro un número de segundos y que despliegue en pantalla, las horas, minutos y segundos que representan. \n",
    "\n",
    "\n",
    "Por ejemplo:\n",
    "\n",
    "1. Si el número de segundos recibidos fuera: 2743 entonces su programa debería desplegar:\n",
    "Horas: 0, Minutos: 45 , Segundos: 43\n",
    "\n",
    "\n",
    "2. Si el número de segundos recibidos fuera 5871: Horas: 1, Minutos: 37 , Segundos: 51\n",
    "Recuerde manejar excepciones y errores que considere necesarios.\n"
   ]
  },
  {
   "cell_type": "code",
   "execution_count": 17,
   "metadata": {},
   "outputs": [],
   "source": [
    "def convert_segundos_to_h_m_s(segundos):\n",
    "\n",
    "    try:\n",
    "\n",
    "        if type(segundos)==int and segundos>0:\n",
    "    \n",
    "            horas = segundos//3600\n",
    "        \n",
    "            segundos = segundos%3600\n",
    "        \n",
    "            minutos = segundos//60\n",
    "        \n",
    "            segundos = segundos%60\n",
    "        \n",
    "            return f\"Horas:{horas}, Minutos:{minutos}, Segundos:{segundos}\"\n",
    "        \n",
    "        else:\n",
    "\n",
    "            print(\"Debe ingresar un valor entero mayor a cero\")\n",
    "    \n",
    "    except:\n",
    "\n",
    "        print(\"Debe ingresar un valor entero mayor a cero\")\n",
    "\n",
    "        pass"
   ]
  },
  {
   "cell_type": "code",
   "execution_count": 21,
   "metadata": {},
   "outputs": [
    {
     "data": {
      "text/plain": [
       "'Horas:0, Minutos:25, Segundos:20'"
      ]
     },
     "execution_count": 21,
     "metadata": {},
     "output_type": "execute_result"
    }
   ],
   "source": [
    "convert_segundos_to_h_m_s(1520)"
   ]
  },
  {
   "attachments": {},
   "cell_type": "markdown",
   "metadata": {},
   "source": [
    "### EJERCICIO No. 2"
   ]
  },
  {
   "attachments": {},
   "cell_type": "markdown",
   "metadata": {},
   "source": [
    "Haga una funcion en Python que dado un numero entre 1 y 20. Y un caracter cualquiera\n",
    "despliegue cuatro patrones triangulares.\n",
    "Por ejemplo si el usuario ingresara el numero 4 y el sımbolo * el programa debera desplegar\n",
    "lo siguiente:\n",
    "\n",
    "<img src=\"grafica.png\">"
   ]
  },
  {
   "cell_type": "code",
   "execution_count": 51,
   "metadata": {},
   "outputs": [],
   "source": [
    "class dibujar:\n",
    "\n",
    "    def __init__(self, cant_carateres, caracter):\n",
    "\n",
    "        self.cant_caracteres_1=cant_carateres\n",
    "        self.caracter_1=str(caracter)\n",
    "    \n",
    "    def evaluar(self):\n",
    "\n",
    "        evaluar=False\n",
    "\n",
    "        if type(self.cant_caracteres_1)==int:\n",
    "\n",
    "            if self.cant_caracteres_1>1 and self.cant_caracteres_1<20:\n",
    "\n",
    "                evaluar=True\n",
    "\n",
    "                return evaluar\n",
    "        \n",
    "        else:\n",
    "\n",
    "            evaluar=False\n",
    "\n",
    "            return evaluar\n",
    "\n",
    "    \n",
    "    def imprimir_figura(self):\n",
    "\n",
    "        list_1=[]\n",
    "        list_2=[]\n",
    "        list_3=[]\n",
    "        strig_1=\"\"\n",
    "        strig_2=\"\"\n",
    "\n",
    "        if self.evaluar()==True:\n",
    "\n",
    "            for i in range(20-self.cant_caracteres_1):\n",
    "\n",
    "                strig_1+=\" \"\n",
    "\n",
    "            for enum, j in enumerate(range(self.cant_caracteres_1),0):\n",
    "\n",
    "                if enum==self.cant_caracteres_1-1:\n",
    "\n",
    "                    break\n",
    "                \n",
    "                for  i in range(self.cant_caracteres_1):\n",
    "                    \n",
    "                    if enum==i:\n",
    "\n",
    "                        strig_2+=self.caracter_1\n",
    "\n",
    "                        strig_2+=strig_1\n",
    "\n",
    "                    else:\n",
    "\n",
    "                        strig_2+=self.caracter_1\n",
    "\n",
    "                strig_2=strig_2+\" \"+strig_2\n",
    "\n",
    "                list_3.append(strig_2)\n",
    "\n",
    "                strig_2=\"\"\n",
    "                    \n",
    "\n",
    "            for i in list_3:\n",
    "\n",
    "                print(i)\n",
    "                \n",
    "        else:\n",
    "\n",
    "            print(\"Debe ingresar un valor entre 1 y 20\")\n",
    "\n",
    "\n",
    "\n",
    "\n"
   ]
  },
  {
   "cell_type": "code",
   "execution_count": 57,
   "metadata": {},
   "outputs": [
    {
     "name": "stdout",
     "output_type": "stream",
     "text": [
      "a aaaaaaaaaaaaaaaaaa a aaaaaaaaaaaaaaaaaa\n",
      "aa aaaaaaaaaaaaaaaaa aa aaaaaaaaaaaaaaaaa\n",
      "aaa aaaaaaaaaaaaaaaa aaa aaaaaaaaaaaaaaaa\n",
      "aaaa aaaaaaaaaaaaaaa aaaa aaaaaaaaaaaaaaa\n",
      "aaaaa aaaaaaaaaaaaaa aaaaa aaaaaaaaaaaaaa\n",
      "aaaaaa aaaaaaaaaaaaa aaaaaa aaaaaaaaaaaaa\n",
      "aaaaaaa aaaaaaaaaaaa aaaaaaa aaaaaaaaaaaa\n",
      "aaaaaaaa aaaaaaaaaaa aaaaaaaa aaaaaaaaaaa\n",
      "aaaaaaaaa aaaaaaaaaa aaaaaaaaa aaaaaaaaaa\n",
      "aaaaaaaaaa aaaaaaaaa aaaaaaaaaa aaaaaaaaa\n",
      "aaaaaaaaaaa aaaaaaaa aaaaaaaaaaa aaaaaaaa\n",
      "aaaaaaaaaaaa aaaaaaa aaaaaaaaaaaa aaaaaaa\n",
      "aaaaaaaaaaaaa aaaaaa aaaaaaaaaaaaa aaaaaa\n",
      "aaaaaaaaaaaaaa aaaaa aaaaaaaaaaaaaa aaaaa\n",
      "aaaaaaaaaaaaaaa aaaa aaaaaaaaaaaaaaa aaaa\n",
      "aaaaaaaaaaaaaaaa aaa aaaaaaaaaaaaaaaa aaa\n",
      "aaaaaaaaaaaaaaaaa aa aaaaaaaaaaaaaaaaa aa\n",
      "aaaaaaaaaaaaaaaaaa a aaaaaaaaaaaaaaaaaa a\n"
     ]
    }
   ],
   "source": [
    "dibujar_1=dibujar(19,\"a\")\n",
    "\n",
    "dibujar_1.imprimir_figura()\n"
   ]
  }
 ],
 "metadata": {
  "kernelspec": {
   "display_name": "Python 3",
   "language": "python",
   "name": "python3"
  },
  "language_info": {
   "codemirror_mode": {
    "name": "ipython",
    "version": 3
   },
   "file_extension": ".py",
   "mimetype": "text/x-python",
   "name": "python",
   "nbconvert_exporter": "python",
   "pygments_lexer": "ipython3",
   "version": "3.9.13"
  },
  "orig_nbformat": 4
 },
 "nbformat": 4,
 "nbformat_minor": 2
}
